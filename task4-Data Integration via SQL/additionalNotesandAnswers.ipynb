{
 "cells": [
  {
   "cell_type": "code",
   "execution_count": null,
   "id": "cdb8fd8a",
   "metadata": {},
   "outputs": [],
   "source": [
    "#Task 4: Data Integration via SQL"
   ]
  },
  {
   "cell_type": "code",
   "execution_count": null,
   "id": "201205d2",
   "metadata": {},
   "outputs": [],
   "source": [
    "#​ Joins the three tables into a unified dataset (structure based on common keys/columns)​\n",
    "#Use the unified dataset to answer the following questions by means of SQL queries: ​\n",
    "\n",
    "create VIEW unified_dataset.unified_dataset AS\n",
    "SELECT \n",
    "    c.client_id,\n",
    "    c.gender,\n",
    "    c.age,\n",
    "    c.province,\n",
    "    COALESCE(c.income, \n",
    "        (SELECT PERCENTILE_CONT(0.5) WITHIN GROUP (ORDER BY income) \n",
    "        FROM clients.clients WHERE province = c.province AND gender = c.gender)\n",
    "    ) AS income,\n",
    "    c.bank,\n",
    "    c.payment,\n",
    "    p.product_name AS lapse_product,\n",
    "    l.has_lapsed,\n",
    "    p.single_premium,\n",
    "    p.couple_premium,\n",
    "    p.family_premium\n",
    "FROM \n",
    "    clients.clients c\n",
    "LEFT JOIN \n",
    "    health_lapses.health_lapses l ON c.client_id = l.id\n",
    "LEFT JOIN \n",
    "    health_products.health_products p ON l.client_code = p.product_name;\n",
    "    \n",
    "    \n",
    "\n",
    "select * from unified_dataset.unified_dataset;\n",
    "\n"
   ]
  },
  {
   "cell_type": "code",
   "execution_count": null,
   "id": "90f4544e",
   "metadata": {},
   "outputs": [],
   "source": []
  },
  {
   "cell_type": "code",
   "execution_count": null,
   "id": "292188d4",
   "metadata": {},
   "outputs": [],
   "source": [
    "#1 Are there any duplicate rows based on the id column, and if so, how many?​\n",
    "\n",
    "SELECT \n",
    "    COUNT(*) - COUNT(DISTINCT client_id) AS duplicate_count\n",
    "FROM \n",
    "    unified_dataset.unified_dataset;\n"
   ]
  },
  {
   "cell_type": "code",
   "execution_count": null,
   "id": "cc47c302",
   "metadata": {},
   "outputs": [],
   "source": [
    "No, duplicate_count = 0"
   ]
  },
  {
   "cell_type": "code",
   "execution_count": null,
   "id": "b2653e30",
   "metadata": {},
   "outputs": [],
   "source": []
  },
  {
   "cell_type": "code",
   "execution_count": null,
   "id": "49cbaeb2",
   "metadata": {},
   "outputs": [],
   "source": [
    "#2​ What is the mean income per province and gender? If the income value is NULL,\n",
    "#impute the NULL values. Provide motivation for your method of imputation. ​\n",
    "\n",
    "SELECT \n",
    "    province,\n",
    "    gender,\n",
    "    ROUND(AVG(income)::numeric, 2) AS mean_income,\n",
    "    COUNT(*) AS sample_size\n",
    "FROM \n",
    "    unified_dataset.unified_dataset\n",
    "GROUP BY \n",
    "    province, gender\n",
    "ORDER BY \n",
    "    province, gender;\n"
   ]
  },
  {
   "cell_type": "code",
   "execution_count": null,
   "id": "a167852c",
   "metadata": {},
   "outputs": [],
   "source": [
    "How We were able to Handle Missing Income Data?:\n",
    "\n",
    "We fillied in missing income numbers using the typical/median income for:\n",
    "\n",
    "    The same province\n",
    "\n",
    "    The same gender\n",
    "\n",
    "This Works Best:\n",
    "\n",
    "    Not skewed by extremes - Uses median (middle value) not average\n",
    "\n",
    "    Local accuracy - Different areas/genders have different income patterns\n",
    "\n",
    "    Better than guessing - More precise than using one number for all missing values\n",
    "\n",
    "that is how we handled the problem."
   ]
  },
  {
   "cell_type": "code",
   "execution_count": null,
   "id": "70184c9d",
   "metadata": {},
   "outputs": [],
   "source": []
  },
  {
   "cell_type": "code",
   "execution_count": null,
   "id": "e0e0a567",
   "metadata": {},
   "outputs": [],
   "source": [
    "3# Which payment method is used by most customers per bank?\n",
    "\n",
    "WITH payment_rankings AS (\n",
    "    SELECT \n",
    "        bank,\n",
    "        payment,\n",
    "        COUNT(*) AS method_count,\n",
    "        RANK() OVER (PARTITION BY bank ORDER BY COUNT(*) DESC) AS rank\n",
    "    FROM \n",
    "        unified_dataset.unified_dataset\n",
    "    GROUP BY \n",
    "        bank, payment\n",
    ")\n",
    "SELECT \n",
    "    bank,\n",
    "    payment AS most_used_payment,\n",
    "    method_count AS customers\n",
    "FROM \n",
    "    payment_rankings\n",
    "WHERE \n",
    "    rank = 1\n",
    "ORDER BY \n",
    "    bank;\n"
   ]
  },
  {
   "cell_type": "code",
   "execution_count": null,
   "id": "95da5e11",
   "metadata": {},
   "outputs": [],
   "source": [
    "Debit Order"
   ]
  }
 ],
 "metadata": {
  "kernelspec": {
   "display_name": "Python 3 (ipykernel)",
   "language": "python",
   "name": "python3"
  },
  "language_info": {
   "codemirror_mode": {
    "name": "ipython",
    "version": 3
   },
   "file_extension": ".py",
   "mimetype": "text/x-python",
   "name": "python",
   "nbconvert_exporter": "python",
   "pygments_lexer": "ipython3",
   "version": "3.9.13"
  }
 },
 "nbformat": 4,
 "nbformat_minor": 5
}
